{
 "cells": [
  {
   "cell_type": "markdown",
   "metadata": {},
   "source": [
    "[Formation sur la Création de Tableaux de bord (dashboard)](https://www.youtube.com/watch?v=2M4_NDVPAAk)\n",
    "\n",
    "Date : 13-08-2023"
   ]
  },
  {
   "cell_type": "code",
   "execution_count": 22,
   "metadata": {},
   "outputs": [],
   "source": [
    "# %pip install dash\n",
    "# %pip install pandas\n",
    "# %pip install numpy\n",
    "# %pip install nbformat ## pour la librairie plotly\n",
    "# %pip install jupyter-dash"
   ]
  },
  {
   "cell_type": "markdown",
   "metadata": {},
   "source": [
    "### Contexte\n",
    "Démarrage : 00:10:00"
   ]
  },
  {
   "cell_type": "code",
   "execution_count": 23,
   "metadata": {},
   "outputs": [],
   "source": [
    "import pandas as pd\n",
    "import numpy as np\n",
    "import plotly.express as px"
   ]
  },
  {
   "cell_type": "code",
   "execution_count": 24,
   "metadata": {},
   "outputs": [
    {
     "data": {
      "text/html": [
       "<div>\n",
       "<style scoped>\n",
       "    .dataframe tbody tr th:only-of-type {\n",
       "        vertical-align: middle;\n",
       "    }\n",
       "\n",
       "    .dataframe tbody tr th {\n",
       "        vertical-align: top;\n",
       "    }\n",
       "\n",
       "    .dataframe thead th {\n",
       "        text-align: right;\n",
       "    }\n",
       "</style>\n",
       "<table border=\"1\" class=\"dataframe\">\n",
       "  <thead>\n",
       "    <tr style=\"text-align: right;\">\n",
       "      <th></th>\n",
       "      <th>InvoiceNo</th>\n",
       "      <th>Description</th>\n",
       "      <th>OrderValue</th>\n",
       "      <th>Quantity</th>\n",
       "      <th>CustomerID</th>\n",
       "      <th>Country</th>\n",
       "    </tr>\n",
       "  </thead>\n",
       "  <tbody>\n",
       "    <tr>\n",
       "      <th>0</th>\n",
       "      <td>549185</td>\n",
       "      <td>PACK OF 20 NAPKINS PANTRY DESIGN</td>\n",
       "      <td>10.20</td>\n",
       "      <td>12</td>\n",
       "      <td>18272.0</td>\n",
       "      <td>United Kingdom</td>\n",
       "    </tr>\n",
       "    <tr>\n",
       "      <th>1</th>\n",
       "      <td>576381</td>\n",
       "      <td>NATURAL SLATE HEART CHALKBOARD</td>\n",
       "      <td>35.40</td>\n",
       "      <td>12</td>\n",
       "      <td>12839.0</td>\n",
       "      <td>United Kingdom</td>\n",
       "    </tr>\n",
       "    <tr>\n",
       "      <th>2</th>\n",
       "      <td>551192</td>\n",
       "      <td>36 PENCILS TUBE SKULLS</td>\n",
       "      <td>20.00</td>\n",
       "      <td>16</td>\n",
       "      <td>16188.0</td>\n",
       "      <td>United Kingdom</td>\n",
       "    </tr>\n",
       "    <tr>\n",
       "      <th>3</th>\n",
       "      <td>573553</td>\n",
       "      <td>SET 6 SCHOOL MILK BOTTLES IN CRATE</td>\n",
       "      <td>7.46</td>\n",
       "      <td>1</td>\n",
       "      <td>NaN</td>\n",
       "      <td>United Kingdom</td>\n",
       "    </tr>\n",
       "    <tr>\n",
       "      <th>4</th>\n",
       "      <td>539436</td>\n",
       "      <td>FINE WICKER HEART</td>\n",
       "      <td>2.51</td>\n",
       "      <td>1</td>\n",
       "      <td>NaN</td>\n",
       "      <td>United Kingdom</td>\n",
       "    </tr>\n",
       "  </tbody>\n",
       "</table>\n",
       "</div>"
      ],
      "text/plain": [
       "   InvoiceNo                         Description  OrderValue  Quantity  \\\n",
       "0     549185    PACK OF 20 NAPKINS PANTRY DESIGN       10.20        12   \n",
       "1     576381     NATURAL SLATE HEART CHALKBOARD        35.40        12   \n",
       "2     551192              36 PENCILS TUBE SKULLS       20.00        16   \n",
       "3     573553  SET 6 SCHOOL MILK BOTTLES IN CRATE        7.46         1   \n",
       "4     539436                  FINE WICKER HEART         2.51         1   \n",
       "\n",
       "   CustomerID         Country  \n",
       "0     18272.0  United Kingdom  \n",
       "1     12839.0  United Kingdom  \n",
       "2     16188.0  United Kingdom  \n",
       "3         NaN  United Kingdom  \n",
       "4         NaN  United Kingdom  "
      ]
     },
     "execution_count": 24,
     "metadata": {},
     "output_type": "execute_result"
    }
   ],
   "source": [
    "# Importation des données\n",
    "df = pd.read_csv('data/ecom_sales.csv')\n",
    "df.head()"
   ]
  },
  {
   "cell_type": "code",
   "execution_count": 25,
   "metadata": {},
   "outputs": [
    {
     "name": "stdout",
     "output_type": "stream",
     "text": [
      "<class 'pandas.core.frame.DataFrame'>\n",
      "RangeIndex: 500 entries, 0 to 499\n",
      "Data columns (total 6 columns):\n",
      " #   Column       Non-Null Count  Dtype  \n",
      "---  ------       --------------  -----  \n",
      " 0   InvoiceNo    500 non-null    int64  \n",
      " 1   Description  500 non-null    object \n",
      " 2   OrderValue   500 non-null    float64\n",
      " 3   Quantity     500 non-null    int64  \n",
      " 4   CustomerID   399 non-null    float64\n",
      " 5   Country      500 non-null    object \n",
      "dtypes: float64(2), int64(2), object(2)\n",
      "memory usage: 23.6+ KB\n"
     ]
    }
   ],
   "source": [
    "df.info()"
   ]
  },
  {
   "cell_type": "markdown",
   "metadata": {},
   "source": [
    "### Exemple de graphique Plotly : diagramme à barres des ventes par pays\n",
    "\n",
    "Démarrage : 00:11:50"
   ]
  },
  {
   "cell_type": "code",
   "execution_count": 26,
   "metadata": {},
   "outputs": [
    {
     "data": {
      "text/html": [
       "<div>\n",
       "<style scoped>\n",
       "    .dataframe tbody tr th:only-of-type {\n",
       "        vertical-align: middle;\n",
       "    }\n",
       "\n",
       "    .dataframe tbody tr th {\n",
       "        vertical-align: top;\n",
       "    }\n",
       "\n",
       "    .dataframe thead th {\n",
       "        text-align: right;\n",
       "    }\n",
       "</style>\n",
       "<table border=\"1\" class=\"dataframe\">\n",
       "  <thead>\n",
       "    <tr style=\"text-align: right;\">\n",
       "      <th></th>\n",
       "      <th>Country</th>\n",
       "      <th>Total Sales ($)</th>\n",
       "    </tr>\n",
       "  </thead>\n",
       "  <tbody>\n",
       "    <tr>\n",
       "      <th>0</th>\n",
       "      <td>Australia</td>\n",
       "      <td>6349.89</td>\n",
       "    </tr>\n",
       "    <tr>\n",
       "      <th>1</th>\n",
       "      <td>France</td>\n",
       "      <td>2623.79</td>\n",
       "    </tr>\n",
       "    <tr>\n",
       "      <th>2</th>\n",
       "      <td>Germany</td>\n",
       "      <td>3153.71</td>\n",
       "    </tr>\n",
       "    <tr>\n",
       "      <th>3</th>\n",
       "      <td>Hong Kong</td>\n",
       "      <td>1660.24</td>\n",
       "    </tr>\n",
       "    <tr>\n",
       "      <th>4</th>\n",
       "      <td>United Kingdom</td>\n",
       "      <td>3131.01</td>\n",
       "    </tr>\n",
       "  </tbody>\n",
       "</table>\n",
       "</div>"
      ],
      "text/plain": [
       "          Country  Total Sales ($)\n",
       "0       Australia          6349.89\n",
       "1          France          2623.79\n",
       "2         Germany          3153.71\n",
       "3       Hong Kong          1660.24\n",
       "4  United Kingdom          3131.01"
      ]
     },
     "execution_count": 26,
     "metadata": {},
     "output_type": "execute_result"
    }
   ],
   "source": [
    "# DF du total des ventes par pays\n",
    "ecom_sales = (df.groupby('Country')['OrderValue']\n",
    "              .agg('sum').reset_index(name='Total Sales ($)'))\n",
    "ecom_sales"
   ]
  },
  {
   "cell_type": "code",
   "execution_count": 27,
   "metadata": {},
   "outputs": [
    {
     "data": {
      "application/vnd.plotly.v1+json": {
       "config": {
        "plotlyServerURL": "https://plot.ly"
       },
       "data": [
        {
         "alignmentgroup": "True",
         "hovertemplate": "Country=%{y}<br>Total Sales ($)=%{x}<extra></extra>",
         "legendgroup": "Australia",
         "marker": {
          "color": "#636efa",
          "pattern": {
           "shape": ""
          }
         },
         "name": "Australia",
         "offsetgroup": "Australia",
         "orientation": "h",
         "showlegend": true,
         "textposition": "auto",
         "type": "bar",
         "x": [
          6349.89
         ],
         "xaxis": "x",
         "y": [
          "Australia"
         ],
         "yaxis": "y"
        },
        {
         "alignmentgroup": "True",
         "hovertemplate": "Country=%{y}<br>Total Sales ($)=%{x}<extra></extra>",
         "legendgroup": "France",
         "marker": {
          "color": "#EF553B",
          "pattern": {
           "shape": ""
          }
         },
         "name": "France",
         "offsetgroup": "France",
         "orientation": "h",
         "showlegend": true,
         "textposition": "auto",
         "type": "bar",
         "x": [
          2623.79
         ],
         "xaxis": "x",
         "y": [
          "France"
         ],
         "yaxis": "y"
        },
        {
         "alignmentgroup": "True",
         "hovertemplate": "Country=%{y}<br>Total Sales ($)=%{x}<extra></extra>",
         "legendgroup": "Germany",
         "marker": {
          "color": "#00cc96",
          "pattern": {
           "shape": ""
          }
         },
         "name": "Germany",
         "offsetgroup": "Germany",
         "orientation": "h",
         "showlegend": true,
         "textposition": "auto",
         "type": "bar",
         "x": [
          3153.71
         ],
         "xaxis": "x",
         "y": [
          "Germany"
         ],
         "yaxis": "y"
        },
        {
         "alignmentgroup": "True",
         "hovertemplate": "Country=%{y}<br>Total Sales ($)=%{x}<extra></extra>",
         "legendgroup": "Hong Kong",
         "marker": {
          "color": "#ab63fa",
          "pattern": {
           "shape": ""
          }
         },
         "name": "Hong Kong",
         "offsetgroup": "Hong Kong",
         "orientation": "h",
         "showlegend": true,
         "textposition": "auto",
         "type": "bar",
         "x": [
          1660.24
         ],
         "xaxis": "x",
         "y": [
          "Hong Kong"
         ],
         "yaxis": "y"
        },
        {
         "alignmentgroup": "True",
         "hovertemplate": "Country=%{y}<br>Total Sales ($)=%{x}<extra></extra>",
         "legendgroup": "United Kingdom",
         "marker": {
          "color": "#FFA15A",
          "pattern": {
           "shape": ""
          }
         },
         "name": "United Kingdom",
         "offsetgroup": "United Kingdom",
         "orientation": "h",
         "showlegend": true,
         "textposition": "auto",
         "type": "bar",
         "x": [
          3131.0099999999998
         ],
         "xaxis": "x",
         "y": [
          "United Kingdom"
         ],
         "yaxis": "y"
        }
       ],
       "layout": {
        "bargap": 0.5,
        "barmode": "relative",
        "legend": {
         "title": {
          "text": "Country"
         },
         "tracegroupgap": 0
        },
        "template": {
         "data": {
          "bar": [
           {
            "error_x": {
             "color": "#2a3f5f"
            },
            "error_y": {
             "color": "#2a3f5f"
            },
            "marker": {
             "line": {
              "color": "#E5ECF6",
              "width": 0.5
             },
             "pattern": {
              "fillmode": "overlay",
              "size": 10,
              "solidity": 0.2
             }
            },
            "type": "bar"
           }
          ],
          "barpolar": [
           {
            "marker": {
             "line": {
              "color": "#E5ECF6",
              "width": 0.5
             },
             "pattern": {
              "fillmode": "overlay",
              "size": 10,
              "solidity": 0.2
             }
            },
            "type": "barpolar"
           }
          ],
          "carpet": [
           {
            "aaxis": {
             "endlinecolor": "#2a3f5f",
             "gridcolor": "white",
             "linecolor": "white",
             "minorgridcolor": "white",
             "startlinecolor": "#2a3f5f"
            },
            "baxis": {
             "endlinecolor": "#2a3f5f",
             "gridcolor": "white",
             "linecolor": "white",
             "minorgridcolor": "white",
             "startlinecolor": "#2a3f5f"
            },
            "type": "carpet"
           }
          ],
          "choropleth": [
           {
            "colorbar": {
             "outlinewidth": 0,
             "ticks": ""
            },
            "type": "choropleth"
           }
          ],
          "contour": [
           {
            "colorbar": {
             "outlinewidth": 0,
             "ticks": ""
            },
            "colorscale": [
             [
              0,
              "#0d0887"
             ],
             [
              0.1111111111111111,
              "#46039f"
             ],
             [
              0.2222222222222222,
              "#7201a8"
             ],
             [
              0.3333333333333333,
              "#9c179e"
             ],
             [
              0.4444444444444444,
              "#bd3786"
             ],
             [
              0.5555555555555556,
              "#d8576b"
             ],
             [
              0.6666666666666666,
              "#ed7953"
             ],
             [
              0.7777777777777778,
              "#fb9f3a"
             ],
             [
              0.8888888888888888,
              "#fdca26"
             ],
             [
              1,
              "#f0f921"
             ]
            ],
            "type": "contour"
           }
          ],
          "contourcarpet": [
           {
            "colorbar": {
             "outlinewidth": 0,
             "ticks": ""
            },
            "type": "contourcarpet"
           }
          ],
          "heatmap": [
           {
            "colorbar": {
             "outlinewidth": 0,
             "ticks": ""
            },
            "colorscale": [
             [
              0,
              "#0d0887"
             ],
             [
              0.1111111111111111,
              "#46039f"
             ],
             [
              0.2222222222222222,
              "#7201a8"
             ],
             [
              0.3333333333333333,
              "#9c179e"
             ],
             [
              0.4444444444444444,
              "#bd3786"
             ],
             [
              0.5555555555555556,
              "#d8576b"
             ],
             [
              0.6666666666666666,
              "#ed7953"
             ],
             [
              0.7777777777777778,
              "#fb9f3a"
             ],
             [
              0.8888888888888888,
              "#fdca26"
             ],
             [
              1,
              "#f0f921"
             ]
            ],
            "type": "heatmap"
           }
          ],
          "heatmapgl": [
           {
            "colorbar": {
             "outlinewidth": 0,
             "ticks": ""
            },
            "colorscale": [
             [
              0,
              "#0d0887"
             ],
             [
              0.1111111111111111,
              "#46039f"
             ],
             [
              0.2222222222222222,
              "#7201a8"
             ],
             [
              0.3333333333333333,
              "#9c179e"
             ],
             [
              0.4444444444444444,
              "#bd3786"
             ],
             [
              0.5555555555555556,
              "#d8576b"
             ],
             [
              0.6666666666666666,
              "#ed7953"
             ],
             [
              0.7777777777777778,
              "#fb9f3a"
             ],
             [
              0.8888888888888888,
              "#fdca26"
             ],
             [
              1,
              "#f0f921"
             ]
            ],
            "type": "heatmapgl"
           }
          ],
          "histogram": [
           {
            "marker": {
             "pattern": {
              "fillmode": "overlay",
              "size": 10,
              "solidity": 0.2
             }
            },
            "type": "histogram"
           }
          ],
          "histogram2d": [
           {
            "colorbar": {
             "outlinewidth": 0,
             "ticks": ""
            },
            "colorscale": [
             [
              0,
              "#0d0887"
             ],
             [
              0.1111111111111111,
              "#46039f"
             ],
             [
              0.2222222222222222,
              "#7201a8"
             ],
             [
              0.3333333333333333,
              "#9c179e"
             ],
             [
              0.4444444444444444,
              "#bd3786"
             ],
             [
              0.5555555555555556,
              "#d8576b"
             ],
             [
              0.6666666666666666,
              "#ed7953"
             ],
             [
              0.7777777777777778,
              "#fb9f3a"
             ],
             [
              0.8888888888888888,
              "#fdca26"
             ],
             [
              1,
              "#f0f921"
             ]
            ],
            "type": "histogram2d"
           }
          ],
          "histogram2dcontour": [
           {
            "colorbar": {
             "outlinewidth": 0,
             "ticks": ""
            },
            "colorscale": [
             [
              0,
              "#0d0887"
             ],
             [
              0.1111111111111111,
              "#46039f"
             ],
             [
              0.2222222222222222,
              "#7201a8"
             ],
             [
              0.3333333333333333,
              "#9c179e"
             ],
             [
              0.4444444444444444,
              "#bd3786"
             ],
             [
              0.5555555555555556,
              "#d8576b"
             ],
             [
              0.6666666666666666,
              "#ed7953"
             ],
             [
              0.7777777777777778,
              "#fb9f3a"
             ],
             [
              0.8888888888888888,
              "#fdca26"
             ],
             [
              1,
              "#f0f921"
             ]
            ],
            "type": "histogram2dcontour"
           }
          ],
          "mesh3d": [
           {
            "colorbar": {
             "outlinewidth": 0,
             "ticks": ""
            },
            "type": "mesh3d"
           }
          ],
          "parcoords": [
           {
            "line": {
             "colorbar": {
              "outlinewidth": 0,
              "ticks": ""
             }
            },
            "type": "parcoords"
           }
          ],
          "pie": [
           {
            "automargin": true,
            "type": "pie"
           }
          ],
          "scatter": [
           {
            "fillpattern": {
             "fillmode": "overlay",
             "size": 10,
             "solidity": 0.2
            },
            "type": "scatter"
           }
          ],
          "scatter3d": [
           {
            "line": {
             "colorbar": {
              "outlinewidth": 0,
              "ticks": ""
             }
            },
            "marker": {
             "colorbar": {
              "outlinewidth": 0,
              "ticks": ""
             }
            },
            "type": "scatter3d"
           }
          ],
          "scattercarpet": [
           {
            "marker": {
             "colorbar": {
              "outlinewidth": 0,
              "ticks": ""
             }
            },
            "type": "scattercarpet"
           }
          ],
          "scattergeo": [
           {
            "marker": {
             "colorbar": {
              "outlinewidth": 0,
              "ticks": ""
             }
            },
            "type": "scattergeo"
           }
          ],
          "scattergl": [
           {
            "marker": {
             "colorbar": {
              "outlinewidth": 0,
              "ticks": ""
             }
            },
            "type": "scattergl"
           }
          ],
          "scattermapbox": [
           {
            "marker": {
             "colorbar": {
              "outlinewidth": 0,
              "ticks": ""
             }
            },
            "type": "scattermapbox"
           }
          ],
          "scatterpolar": [
           {
            "marker": {
             "colorbar": {
              "outlinewidth": 0,
              "ticks": ""
             }
            },
            "type": "scatterpolar"
           }
          ],
          "scatterpolargl": [
           {
            "marker": {
             "colorbar": {
              "outlinewidth": 0,
              "ticks": ""
             }
            },
            "type": "scatterpolargl"
           }
          ],
          "scatterternary": [
           {
            "marker": {
             "colorbar": {
              "outlinewidth": 0,
              "ticks": ""
             }
            },
            "type": "scatterternary"
           }
          ],
          "surface": [
           {
            "colorbar": {
             "outlinewidth": 0,
             "ticks": ""
            },
            "colorscale": [
             [
              0,
              "#0d0887"
             ],
             [
              0.1111111111111111,
              "#46039f"
             ],
             [
              0.2222222222222222,
              "#7201a8"
             ],
             [
              0.3333333333333333,
              "#9c179e"
             ],
             [
              0.4444444444444444,
              "#bd3786"
             ],
             [
              0.5555555555555556,
              "#d8576b"
             ],
             [
              0.6666666666666666,
              "#ed7953"
             ],
             [
              0.7777777777777778,
              "#fb9f3a"
             ],
             [
              0.8888888888888888,
              "#fdca26"
             ],
             [
              1,
              "#f0f921"
             ]
            ],
            "type": "surface"
           }
          ],
          "table": [
           {
            "cells": {
             "fill": {
              "color": "#EBF0F8"
             },
             "line": {
              "color": "white"
             }
            },
            "header": {
             "fill": {
              "color": "#C8D4E3"
             },
             "line": {
              "color": "white"
             }
            },
            "type": "table"
           }
          ]
         },
         "layout": {
          "annotationdefaults": {
           "arrowcolor": "#2a3f5f",
           "arrowhead": 0,
           "arrowwidth": 1
          },
          "autotypenumbers": "strict",
          "coloraxis": {
           "colorbar": {
            "outlinewidth": 0,
            "ticks": ""
           }
          },
          "colorscale": {
           "diverging": [
            [
             0,
             "#8e0152"
            ],
            [
             0.1,
             "#c51b7d"
            ],
            [
             0.2,
             "#de77ae"
            ],
            [
             0.3,
             "#f1b6da"
            ],
            [
             0.4,
             "#fde0ef"
            ],
            [
             0.5,
             "#f7f7f7"
            ],
            [
             0.6,
             "#e6f5d0"
            ],
            [
             0.7,
             "#b8e186"
            ],
            [
             0.8,
             "#7fbc41"
            ],
            [
             0.9,
             "#4d9221"
            ],
            [
             1,
             "#276419"
            ]
           ],
           "sequential": [
            [
             0,
             "#0d0887"
            ],
            [
             0.1111111111111111,
             "#46039f"
            ],
            [
             0.2222222222222222,
             "#7201a8"
            ],
            [
             0.3333333333333333,
             "#9c179e"
            ],
            [
             0.4444444444444444,
             "#bd3786"
            ],
            [
             0.5555555555555556,
             "#d8576b"
            ],
            [
             0.6666666666666666,
             "#ed7953"
            ],
            [
             0.7777777777777778,
             "#fb9f3a"
            ],
            [
             0.8888888888888888,
             "#fdca26"
            ],
            [
             1,
             "#f0f921"
            ]
           ],
           "sequentialminus": [
            [
             0,
             "#0d0887"
            ],
            [
             0.1111111111111111,
             "#46039f"
            ],
            [
             0.2222222222222222,
             "#7201a8"
            ],
            [
             0.3333333333333333,
             "#9c179e"
            ],
            [
             0.4444444444444444,
             "#bd3786"
            ],
            [
             0.5555555555555556,
             "#d8576b"
            ],
            [
             0.6666666666666666,
             "#ed7953"
            ],
            [
             0.7777777777777778,
             "#fb9f3a"
            ],
            [
             0.8888888888888888,
             "#fdca26"
            ],
            [
             1,
             "#f0f921"
            ]
           ]
          },
          "colorway": [
           "#636efa",
           "#EF553B",
           "#00cc96",
           "#ab63fa",
           "#FFA15A",
           "#19d3f3",
           "#FF6692",
           "#B6E880",
           "#FF97FF",
           "#FECB52"
          ],
          "font": {
           "color": "#2a3f5f"
          },
          "geo": {
           "bgcolor": "white",
           "lakecolor": "white",
           "landcolor": "#E5ECF6",
           "showlakes": true,
           "showland": true,
           "subunitcolor": "white"
          },
          "hoverlabel": {
           "align": "left"
          },
          "hovermode": "closest",
          "mapbox": {
           "style": "light"
          },
          "paper_bgcolor": "white",
          "plot_bgcolor": "#E5ECF6",
          "polar": {
           "angularaxis": {
            "gridcolor": "white",
            "linecolor": "white",
            "ticks": ""
           },
           "bgcolor": "#E5ECF6",
           "radialaxis": {
            "gridcolor": "white",
            "linecolor": "white",
            "ticks": ""
           }
          },
          "scene": {
           "xaxis": {
            "backgroundcolor": "#E5ECF6",
            "gridcolor": "white",
            "gridwidth": 2,
            "linecolor": "white",
            "showbackground": true,
            "ticks": "",
            "zerolinecolor": "white"
           },
           "yaxis": {
            "backgroundcolor": "#E5ECF6",
            "gridcolor": "white",
            "gridwidth": 2,
            "linecolor": "white",
            "showbackground": true,
            "ticks": "",
            "zerolinecolor": "white"
           },
           "zaxis": {
            "backgroundcolor": "#E5ECF6",
            "gridcolor": "white",
            "gridwidth": 2,
            "linecolor": "white",
            "showbackground": true,
            "ticks": "",
            "zerolinecolor": "white"
           }
          },
          "shapedefaults": {
           "line": {
            "color": "#2a3f5f"
           }
          },
          "ternary": {
           "aaxis": {
            "gridcolor": "white",
            "linecolor": "white",
            "ticks": ""
           },
           "baxis": {
            "gridcolor": "white",
            "linecolor": "white",
            "ticks": ""
           },
           "bgcolor": "#E5ECF6",
           "caxis": {
            "gridcolor": "white",
            "linecolor": "white",
            "ticks": ""
           }
          },
          "title": {
           "x": 0.05
          },
          "xaxis": {
           "automargin": true,
           "gridcolor": "white",
           "linecolor": "white",
           "ticks": "",
           "title": {
            "standoff": 15
           },
           "zerolinecolor": "white",
           "zerolinewidth": 2
          },
          "yaxis": {
           "automargin": true,
           "gridcolor": "white",
           "linecolor": "white",
           "ticks": "",
           "title": {
            "standoff": 15
           },
           "zerolinecolor": "white",
           "zerolinewidth": 2
          }
         }
        },
        "title": {
         "text": "Total des ventes par pays"
        },
        "xaxis": {
         "anchor": "y",
         "domain": [
          0,
          1
         ],
         "title": {
          "text": "Total Sales ($)"
         }
        },
        "yaxis": {
         "anchor": "x",
         "categoryarray": [
          "United Kingdom",
          "Hong Kong",
          "Germany",
          "France",
          "Australia"
         ],
         "categoryorder": "array",
         "domain": [
          0,
          1
         ],
         "title": {
          "text": "Country"
         }
        }
       }
      }
     },
     "metadata": {},
     "output_type": "display_data"
    }
   ],
   "source": [
    "# Configuration du graphique\n",
    "bar_fig = px.bar(\n",
    "    data_frame=ecom_sales, x='Total Sales ($)', y='Country', color='Country',\n",
    "    orientation='h', title='Total des ventes par pays')\n",
    "\n",
    "# Espacement entre les barres\n",
    "bar_fig.update_layout({'bargap': 0.5}) \n",
    "\n",
    "# Affichage du graphique\n",
    "bar_fig.show()"
   ]
  },
  {
   "cell_type": "markdown",
   "metadata": {},
   "source": [
    "### Première application Dash\n",
    "Démarrage : 00:15:40"
   ]
  },
  {
   "cell_type": "code",
   "execution_count": 28,
   "metadata": {},
   "outputs": [],
   "source": [
    "import dash\n",
    "import dash_core_components as dcc\n",
    "import dash_html_components as html\n",
    "from jupyter_dash import JupyterDash\n",
    "from dash.dependencies import Input, Output\n",
    "from dash.dash_table import DataTable"
   ]
  },
  {
   "cell_type": "code",
   "execution_count": 29,
   "metadata": {},
   "outputs": [],
   "source": [
    "# \"Présentation de la page @ avec un graphique\"\n",
    "\n",
    "# # Instancier un objet application Dash dans Jupyter\n",
    "# app = JupyterDash(__name__)\n",
    "\n",
    "# # Configuration de la page @\n",
    "# app.layout = dcc.Graph(id= 'exemple-graph', figure=bar_fig)\n",
    "\n",
    "# if __name__ == '__main__':\n",
    "#     app.run_server(debug=True) # True : affichage des commentaires des erreurs"
   ]
  },
  {
   "cell_type": "markdown",
   "metadata": {},
   "source": [
    "### Ajout et positionnement de plusieurs composants dans une application Dash\n",
    "\n",
    "Démarrage : 00:20:35"
   ]
  },
  {
   "cell_type": "code",
   "execution_count": 30,
   "metadata": {},
   "outputs": [],
   "source": [
    "# \"Présentation de la page @ avec du HTML\"\n",
    "\n",
    "# # Instancier un objet application Dash dans Jupyter\n",
    "# app = JupyterDash(__name__)\n",
    "\n",
    "# # Configuration de la page @\n",
    "# app.layout = html.Div( # Objet principal de la page @\n",
    "#     children=[\n",
    "#         html.Div( # 1er objet de la page @\n",
    "#             style={'background-color':'red', 'height':250, 'width':250\n",
    "#                    }\n",
    "#             ),\n",
    "#         html.Div( # 2ème objet de la page @\n",
    "#             children=[\n",
    "#                 html.H1(\"Titre principal\"),\n",
    "#                 html.H2(\"Sous-titre\")\n",
    "#                 ],\n",
    "#             style={\n",
    "#                 'background-color':'blue', 'height':250, 'width':250\n",
    "#                 }\n",
    "#             )\n",
    "#     ])\n",
    "\n",
    "# if __name__ == '__main__':\n",
    "#     app.run_server(debug=True)"
   ]
  },
  {
   "cell_type": "code",
   "execution_count": 31,
   "metadata": {},
   "outputs": [],
   "source": [
    "# \"Combinaison du HTML avec un graphique sur la page @\"\n",
    "\n",
    "# # Instancier un objet application Dash dans Jupyter\n",
    "# app = JupyterDash(__name__)\n",
    "\n",
    "# # Configuration de la page @\n",
    "# app.layout = html.Div(\n",
    "#     children=[\n",
    "#         html.H1(\"Total des ventes par pays\"), # HTML\n",
    "#         dcc.Graph(id='bar_graph', figure=bar_fig) # Graphique\n",
    "#     ])\n",
    "\n",
    "# if __name__ == '__main__':\n",
    "#     app.run_server(debug=True)"
   ]
  },
  {
   "cell_type": "code",
   "execution_count": 32,
   "metadata": {},
   "outputs": [
    {
     "data": {
      "text/html": [
       "<div>\n",
       "<style scoped>\n",
       "    .dataframe tbody tr th:only-of-type {\n",
       "        vertical-align: middle;\n",
       "    }\n",
       "\n",
       "    .dataframe tbody tr th {\n",
       "        vertical-align: top;\n",
       "    }\n",
       "\n",
       "    .dataframe thead th {\n",
       "        text-align: right;\n",
       "    }\n",
       "</style>\n",
       "<table border=\"1\" class=\"dataframe\">\n",
       "  <thead>\n",
       "    <tr style=\"text-align: right;\">\n",
       "      <th></th>\n",
       "      <th>Country</th>\n",
       "      <th>OrderValue</th>\n",
       "      <th>Quantity</th>\n",
       "    </tr>\n",
       "  </thead>\n",
       "  <tbody>\n",
       "    <tr>\n",
       "      <th>0</th>\n",
       "      <td>Australia</td>\n",
       "      <td>6349.89</td>\n",
       "      <td>5325</td>\n",
       "    </tr>\n",
       "    <tr>\n",
       "      <th>1</th>\n",
       "      <td>France</td>\n",
       "      <td>2623.79</td>\n",
       "      <td>1587</td>\n",
       "    </tr>\n",
       "    <tr>\n",
       "      <th>2</th>\n",
       "      <td>Germany</td>\n",
       "      <td>3153.71</td>\n",
       "      <td>1951</td>\n",
       "    </tr>\n",
       "    <tr>\n",
       "      <th>3</th>\n",
       "      <td>Hong Kong</td>\n",
       "      <td>1660.24</td>\n",
       "      <td>826</td>\n",
       "    </tr>\n",
       "    <tr>\n",
       "      <th>4</th>\n",
       "      <td>United Kingdom</td>\n",
       "      <td>3131.01</td>\n",
       "      <td>1483</td>\n",
       "    </tr>\n",
       "  </tbody>\n",
       "</table>\n",
       "</div>"
      ],
      "text/plain": [
       "          Country  OrderValue  Quantity\n",
       "0       Australia     6349.89      5325\n",
       "1          France     2623.79      1587\n",
       "2         Germany     3153.71      1951\n",
       "3       Hong Kong     1660.24       826\n",
       "4  United Kingdom     3131.01      1483"
      ]
     },
     "execution_count": 32,
     "metadata": {},
     "output_type": "execute_result"
    }
   ],
   "source": [
    "\"Autre combinaison d'HTML et de graphiques\"\n",
    "\n",
    "# DF du total des ventes et des quantités par pays\n",
    "ecom_sales2 = (df.groupby('Country')[['OrderValue', 'Quantity']].agg('sum')\n",
    "               .reset_index())\n",
    "ecom_sales2"
   ]
  },
  {
   "cell_type": "code",
   "execution_count": 33,
   "metadata": {},
   "outputs": [
    {
     "data": {
      "application/vnd.plotly.v1+json": {
       "config": {
        "plotlyServerURL": "https://plot.ly"
       },
       "data": [
        {
         "hovertemplate": "Country=Australia<br>Quantity=%{marker.size}<br>OrderValue=%{y}<extra></extra>",
         "legendgroup": "Australia",
         "marker": {
          "color": "#636efa",
          "size": [
           5325
          ],
          "sizemode": "area",
          "sizeref": 13.3125,
          "symbol": "circle"
         },
         "mode": "markers",
         "name": "Australia",
         "orientation": "v",
         "showlegend": true,
         "type": "scatter",
         "x": [
          5325
         ],
         "xaxis": "x",
         "y": [
          6349.89
         ],
         "yaxis": "y"
        },
        {
         "hovertemplate": "Country=France<br>Quantity=%{marker.size}<br>OrderValue=%{y}<extra></extra>",
         "legendgroup": "France",
         "marker": {
          "color": "#EF553B",
          "size": [
           1587
          ],
          "sizemode": "area",
          "sizeref": 13.3125,
          "symbol": "circle"
         },
         "mode": "markers",
         "name": "France",
         "orientation": "v",
         "showlegend": true,
         "type": "scatter",
         "x": [
          1587
         ],
         "xaxis": "x",
         "y": [
          2623.79
         ],
         "yaxis": "y"
        },
        {
         "hovertemplate": "Country=Germany<br>Quantity=%{marker.size}<br>OrderValue=%{y}<extra></extra>",
         "legendgroup": "Germany",
         "marker": {
          "color": "#00cc96",
          "size": [
           1951
          ],
          "sizemode": "area",
          "sizeref": 13.3125,
          "symbol": "circle"
         },
         "mode": "markers",
         "name": "Germany",
         "orientation": "v",
         "showlegend": true,
         "type": "scatter",
         "x": [
          1951
         ],
         "xaxis": "x",
         "y": [
          3153.71
         ],
         "yaxis": "y"
        },
        {
         "hovertemplate": "Country=Hong Kong<br>Quantity=%{marker.size}<br>OrderValue=%{y}<extra></extra>",
         "legendgroup": "Hong Kong",
         "marker": {
          "color": "#ab63fa",
          "size": [
           826
          ],
          "sizemode": "area",
          "sizeref": 13.3125,
          "symbol": "circle"
         },
         "mode": "markers",
         "name": "Hong Kong",
         "orientation": "v",
         "showlegend": true,
         "type": "scatter",
         "x": [
          826
         ],
         "xaxis": "x",
         "y": [
          1660.24
         ],
         "yaxis": "y"
        },
        {
         "hovertemplate": "Country=United Kingdom<br>Quantity=%{marker.size}<br>OrderValue=%{y}<extra></extra>",
         "legendgroup": "United Kingdom",
         "marker": {
          "color": "#FFA15A",
          "size": [
           1483
          ],
          "sizemode": "area",
          "sizeref": 13.3125,
          "symbol": "circle"
         },
         "mode": "markers",
         "name": "United Kingdom",
         "orientation": "v",
         "showlegend": true,
         "type": "scatter",
         "x": [
          1483
         ],
         "xaxis": "x",
         "y": [
          3131.0099999999998
         ],
         "yaxis": "y"
        }
       ],
       "layout": {
        "legend": {
         "itemsizing": "constant",
         "title": {
          "text": "Country"
         },
         "tracegroupgap": 0
        },
        "template": {
         "data": {
          "bar": [
           {
            "error_x": {
             "color": "#2a3f5f"
            },
            "error_y": {
             "color": "#2a3f5f"
            },
            "marker": {
             "line": {
              "color": "#E5ECF6",
              "width": 0.5
             },
             "pattern": {
              "fillmode": "overlay",
              "size": 10,
              "solidity": 0.2
             }
            },
            "type": "bar"
           }
          ],
          "barpolar": [
           {
            "marker": {
             "line": {
              "color": "#E5ECF6",
              "width": 0.5
             },
             "pattern": {
              "fillmode": "overlay",
              "size": 10,
              "solidity": 0.2
             }
            },
            "type": "barpolar"
           }
          ],
          "carpet": [
           {
            "aaxis": {
             "endlinecolor": "#2a3f5f",
             "gridcolor": "white",
             "linecolor": "white",
             "minorgridcolor": "white",
             "startlinecolor": "#2a3f5f"
            },
            "baxis": {
             "endlinecolor": "#2a3f5f",
             "gridcolor": "white",
             "linecolor": "white",
             "minorgridcolor": "white",
             "startlinecolor": "#2a3f5f"
            },
            "type": "carpet"
           }
          ],
          "choropleth": [
           {
            "colorbar": {
             "outlinewidth": 0,
             "ticks": ""
            },
            "type": "choropleth"
           }
          ],
          "contour": [
           {
            "colorbar": {
             "outlinewidth": 0,
             "ticks": ""
            },
            "colorscale": [
             [
              0,
              "#0d0887"
             ],
             [
              0.1111111111111111,
              "#46039f"
             ],
             [
              0.2222222222222222,
              "#7201a8"
             ],
             [
              0.3333333333333333,
              "#9c179e"
             ],
             [
              0.4444444444444444,
              "#bd3786"
             ],
             [
              0.5555555555555556,
              "#d8576b"
             ],
             [
              0.6666666666666666,
              "#ed7953"
             ],
             [
              0.7777777777777778,
              "#fb9f3a"
             ],
             [
              0.8888888888888888,
              "#fdca26"
             ],
             [
              1,
              "#f0f921"
             ]
            ],
            "type": "contour"
           }
          ],
          "contourcarpet": [
           {
            "colorbar": {
             "outlinewidth": 0,
             "ticks": ""
            },
            "type": "contourcarpet"
           }
          ],
          "heatmap": [
           {
            "colorbar": {
             "outlinewidth": 0,
             "ticks": ""
            },
            "colorscale": [
             [
              0,
              "#0d0887"
             ],
             [
              0.1111111111111111,
              "#46039f"
             ],
             [
              0.2222222222222222,
              "#7201a8"
             ],
             [
              0.3333333333333333,
              "#9c179e"
             ],
             [
              0.4444444444444444,
              "#bd3786"
             ],
             [
              0.5555555555555556,
              "#d8576b"
             ],
             [
              0.6666666666666666,
              "#ed7953"
             ],
             [
              0.7777777777777778,
              "#fb9f3a"
             ],
             [
              0.8888888888888888,
              "#fdca26"
             ],
             [
              1,
              "#f0f921"
             ]
            ],
            "type": "heatmap"
           }
          ],
          "heatmapgl": [
           {
            "colorbar": {
             "outlinewidth": 0,
             "ticks": ""
            },
            "colorscale": [
             [
              0,
              "#0d0887"
             ],
             [
              0.1111111111111111,
              "#46039f"
             ],
             [
              0.2222222222222222,
              "#7201a8"
             ],
             [
              0.3333333333333333,
              "#9c179e"
             ],
             [
              0.4444444444444444,
              "#bd3786"
             ],
             [
              0.5555555555555556,
              "#d8576b"
             ],
             [
              0.6666666666666666,
              "#ed7953"
             ],
             [
              0.7777777777777778,
              "#fb9f3a"
             ],
             [
              0.8888888888888888,
              "#fdca26"
             ],
             [
              1,
              "#f0f921"
             ]
            ],
            "type": "heatmapgl"
           }
          ],
          "histogram": [
           {
            "marker": {
             "pattern": {
              "fillmode": "overlay",
              "size": 10,
              "solidity": 0.2
             }
            },
            "type": "histogram"
           }
          ],
          "histogram2d": [
           {
            "colorbar": {
             "outlinewidth": 0,
             "ticks": ""
            },
            "colorscale": [
             [
              0,
              "#0d0887"
             ],
             [
              0.1111111111111111,
              "#46039f"
             ],
             [
              0.2222222222222222,
              "#7201a8"
             ],
             [
              0.3333333333333333,
              "#9c179e"
             ],
             [
              0.4444444444444444,
              "#bd3786"
             ],
             [
              0.5555555555555556,
              "#d8576b"
             ],
             [
              0.6666666666666666,
              "#ed7953"
             ],
             [
              0.7777777777777778,
              "#fb9f3a"
             ],
             [
              0.8888888888888888,
              "#fdca26"
             ],
             [
              1,
              "#f0f921"
             ]
            ],
            "type": "histogram2d"
           }
          ],
          "histogram2dcontour": [
           {
            "colorbar": {
             "outlinewidth": 0,
             "ticks": ""
            },
            "colorscale": [
             [
              0,
              "#0d0887"
             ],
             [
              0.1111111111111111,
              "#46039f"
             ],
             [
              0.2222222222222222,
              "#7201a8"
             ],
             [
              0.3333333333333333,
              "#9c179e"
             ],
             [
              0.4444444444444444,
              "#bd3786"
             ],
             [
              0.5555555555555556,
              "#d8576b"
             ],
             [
              0.6666666666666666,
              "#ed7953"
             ],
             [
              0.7777777777777778,
              "#fb9f3a"
             ],
             [
              0.8888888888888888,
              "#fdca26"
             ],
             [
              1,
              "#f0f921"
             ]
            ],
            "type": "histogram2dcontour"
           }
          ],
          "mesh3d": [
           {
            "colorbar": {
             "outlinewidth": 0,
             "ticks": ""
            },
            "type": "mesh3d"
           }
          ],
          "parcoords": [
           {
            "line": {
             "colorbar": {
              "outlinewidth": 0,
              "ticks": ""
             }
            },
            "type": "parcoords"
           }
          ],
          "pie": [
           {
            "automargin": true,
            "type": "pie"
           }
          ],
          "scatter": [
           {
            "fillpattern": {
             "fillmode": "overlay",
             "size": 10,
             "solidity": 0.2
            },
            "type": "scatter"
           }
          ],
          "scatter3d": [
           {
            "line": {
             "colorbar": {
              "outlinewidth": 0,
              "ticks": ""
             }
            },
            "marker": {
             "colorbar": {
              "outlinewidth": 0,
              "ticks": ""
             }
            },
            "type": "scatter3d"
           }
          ],
          "scattercarpet": [
           {
            "marker": {
             "colorbar": {
              "outlinewidth": 0,
              "ticks": ""
             }
            },
            "type": "scattercarpet"
           }
          ],
          "scattergeo": [
           {
            "marker": {
             "colorbar": {
              "outlinewidth": 0,
              "ticks": ""
             }
            },
            "type": "scattergeo"
           }
          ],
          "scattergl": [
           {
            "marker": {
             "colorbar": {
              "outlinewidth": 0,
              "ticks": ""
             }
            },
            "type": "scattergl"
           }
          ],
          "scattermapbox": [
           {
            "marker": {
             "colorbar": {
              "outlinewidth": 0,
              "ticks": ""
             }
            },
            "type": "scattermapbox"
           }
          ],
          "scatterpolar": [
           {
            "marker": {
             "colorbar": {
              "outlinewidth": 0,
              "ticks": ""
             }
            },
            "type": "scatterpolar"
           }
          ],
          "scatterpolargl": [
           {
            "marker": {
             "colorbar": {
              "outlinewidth": 0,
              "ticks": ""
             }
            },
            "type": "scatterpolargl"
           }
          ],
          "scatterternary": [
           {
            "marker": {
             "colorbar": {
              "outlinewidth": 0,
              "ticks": ""
             }
            },
            "type": "scatterternary"
           }
          ],
          "surface": [
           {
            "colorbar": {
             "outlinewidth": 0,
             "ticks": ""
            },
            "colorscale": [
             [
              0,
              "#0d0887"
             ],
             [
              0.1111111111111111,
              "#46039f"
             ],
             [
              0.2222222222222222,
              "#7201a8"
             ],
             [
              0.3333333333333333,
              "#9c179e"
             ],
             [
              0.4444444444444444,
              "#bd3786"
             ],
             [
              0.5555555555555556,
              "#d8576b"
             ],
             [
              0.6666666666666666,
              "#ed7953"
             ],
             [
              0.7777777777777778,
              "#fb9f3a"
             ],
             [
              0.8888888888888888,
              "#fdca26"
             ],
             [
              1,
              "#f0f921"
             ]
            ],
            "type": "surface"
           }
          ],
          "table": [
           {
            "cells": {
             "fill": {
              "color": "#EBF0F8"
             },
             "line": {
              "color": "white"
             }
            },
            "header": {
             "fill": {
              "color": "#C8D4E3"
             },
             "line": {
              "color": "white"
             }
            },
            "type": "table"
           }
          ]
         },
         "layout": {
          "annotationdefaults": {
           "arrowcolor": "#2a3f5f",
           "arrowhead": 0,
           "arrowwidth": 1
          },
          "autotypenumbers": "strict",
          "coloraxis": {
           "colorbar": {
            "outlinewidth": 0,
            "ticks": ""
           }
          },
          "colorscale": {
           "diverging": [
            [
             0,
             "#8e0152"
            ],
            [
             0.1,
             "#c51b7d"
            ],
            [
             0.2,
             "#de77ae"
            ],
            [
             0.3,
             "#f1b6da"
            ],
            [
             0.4,
             "#fde0ef"
            ],
            [
             0.5,
             "#f7f7f7"
            ],
            [
             0.6,
             "#e6f5d0"
            ],
            [
             0.7,
             "#b8e186"
            ],
            [
             0.8,
             "#7fbc41"
            ],
            [
             0.9,
             "#4d9221"
            ],
            [
             1,
             "#276419"
            ]
           ],
           "sequential": [
            [
             0,
             "#0d0887"
            ],
            [
             0.1111111111111111,
             "#46039f"
            ],
            [
             0.2222222222222222,
             "#7201a8"
            ],
            [
             0.3333333333333333,
             "#9c179e"
            ],
            [
             0.4444444444444444,
             "#bd3786"
            ],
            [
             0.5555555555555556,
             "#d8576b"
            ],
            [
             0.6666666666666666,
             "#ed7953"
            ],
            [
             0.7777777777777778,
             "#fb9f3a"
            ],
            [
             0.8888888888888888,
             "#fdca26"
            ],
            [
             1,
             "#f0f921"
            ]
           ],
           "sequentialminus": [
            [
             0,
             "#0d0887"
            ],
            [
             0.1111111111111111,
             "#46039f"
            ],
            [
             0.2222222222222222,
             "#7201a8"
            ],
            [
             0.3333333333333333,
             "#9c179e"
            ],
            [
             0.4444444444444444,
             "#bd3786"
            ],
            [
             0.5555555555555556,
             "#d8576b"
            ],
            [
             0.6666666666666666,
             "#ed7953"
            ],
            [
             0.7777777777777778,
             "#fb9f3a"
            ],
            [
             0.8888888888888888,
             "#fdca26"
            ],
            [
             1,
             "#f0f921"
            ]
           ]
          },
          "colorway": [
           "#636efa",
           "#EF553B",
           "#00cc96",
           "#ab63fa",
           "#FFA15A",
           "#19d3f3",
           "#FF6692",
           "#B6E880",
           "#FF97FF",
           "#FECB52"
          ],
          "font": {
           "color": "#2a3f5f"
          },
          "geo": {
           "bgcolor": "white",
           "lakecolor": "white",
           "landcolor": "#E5ECF6",
           "showlakes": true,
           "showland": true,
           "subunitcolor": "white"
          },
          "hoverlabel": {
           "align": "left"
          },
          "hovermode": "closest",
          "mapbox": {
           "style": "light"
          },
          "paper_bgcolor": "white",
          "plot_bgcolor": "#E5ECF6",
          "polar": {
           "angularaxis": {
            "gridcolor": "white",
            "linecolor": "white",
            "ticks": ""
           },
           "bgcolor": "#E5ECF6",
           "radialaxis": {
            "gridcolor": "white",
            "linecolor": "white",
            "ticks": ""
           }
          },
          "scene": {
           "xaxis": {
            "backgroundcolor": "#E5ECF6",
            "gridcolor": "white",
            "gridwidth": 2,
            "linecolor": "white",
            "showbackground": true,
            "ticks": "",
            "zerolinecolor": "white"
           },
           "yaxis": {
            "backgroundcolor": "#E5ECF6",
            "gridcolor": "white",
            "gridwidth": 2,
            "linecolor": "white",
            "showbackground": true,
            "ticks": "",
            "zerolinecolor": "white"
           },
           "zaxis": {
            "backgroundcolor": "#E5ECF6",
            "gridcolor": "white",
            "gridwidth": 2,
            "linecolor": "white",
            "showbackground": true,
            "ticks": "",
            "zerolinecolor": "white"
           }
          },
          "shapedefaults": {
           "line": {
            "color": "#2a3f5f"
           }
          },
          "ternary": {
           "aaxis": {
            "gridcolor": "white",
            "linecolor": "white",
            "ticks": ""
           },
           "baxis": {
            "gridcolor": "white",
            "linecolor": "white",
            "ticks": ""
           },
           "bgcolor": "#E5ECF6",
           "caxis": {
            "gridcolor": "white",
            "linecolor": "white",
            "ticks": ""
           }
          },
          "title": {
           "x": 0.05
          },
          "xaxis": {
           "automargin": true,
           "gridcolor": "white",
           "linecolor": "white",
           "ticks": "",
           "title": {
            "standoff": 15
           },
           "zerolinecolor": "white",
           "zerolinewidth": 2
          },
          "yaxis": {
           "automargin": true,
           "gridcolor": "white",
           "linecolor": "white",
           "ticks": "",
           "title": {
            "standoff": 15
           },
           "zerolinecolor": "white",
           "zerolinewidth": 2
          }
         }
        },
        "title": {
         "text": "Total des ventes vs quantité totale"
        },
        "xaxis": {
         "anchor": "y",
         "domain": [
          0,
          1
         ],
         "title": {
          "text": "Quantity"
         }
        },
        "yaxis": {
         "anchor": "x",
         "domain": [
          0,
          1
         ],
         "title": {
          "text": "OrderValue"
         }
        }
       }
      }
     },
     "metadata": {},
     "output_type": "display_data"
    }
   ],
   "source": [
    "# Graphique sous la forme d'un nuage de points\n",
    "scatter_fig = px.scatter(\n",
    "    ecom_sales2, x='Quantity', y='OrderValue', color='Country',\n",
    "    size='Quantity', title='Total des ventes vs quantité totale')\n",
    "scatter_fig"
   ]
  },
  {
   "cell_type": "code",
   "execution_count": 34,
   "metadata": {},
   "outputs": [
    {
     "data": {
      "text/plain": [
       "'Australia'"
      ]
     },
     "execution_count": 34,
     "metadata": {},
     "output_type": "execute_result"
    }
   ],
   "source": [
    "# Quel est le pays qui totalise le plus de ventes ?\n",
    "top_country = ecom_sales.sort_values(\n",
    "    by='Total Sales ($)', ascending=False).loc[0]['Country']\n",
    "top_country"
   ]
  },
  {
   "cell_type": "code",
   "execution_count": 35,
   "metadata": {},
   "outputs": [],
   "source": [
    "# # Instancier un objet application Dash dans Jupyter\n",
    "# app = JupyterDash(__name__)\n",
    "\n",
    "# # Configuration de la page @\n",
    "# app.layout = html.Div(\n",
    "#     children=[\n",
    "#         # Titre principal sous format HTML\n",
    "#         html.H1(\"Graphiques des ventes\"),\n",
    "        \n",
    "#         # Nuage de points dans une section séparée du titre principal\n",
    "#         html.Div(dcc.Graph(figure=scatter_fig)),\n",
    "        \n",
    "#         # Diagramme à barres dans une nouvelle section\n",
    "#         html.Div(dcc.Graph(figure=bar_fig)),\n",
    "        \n",
    "#         # Ajout d'une phrase\n",
    "#         html.H3(f\"Le pays ayant réalisé le plus de ventes est : {top_country}\")\n",
    "#     ]\n",
    "# )\n",
    "\n",
    "# if __name__ == '__main__':\n",
    "#     app.run_server(debug=True)"
   ]
  },
  {
   "cell_type": "markdown",
   "metadata": {},
   "source": [
    "### Autres personnalisations avec HTML et CSS\n",
    "\n",
    "Démarrage : 00:28:30"
   ]
  },
  {
   "cell_type": "code",
   "execution_count": 36,
   "metadata": {},
   "outputs": [],
   "source": [
    "# # Instancier un objet application Dash dans Jupyter\n",
    "# app = JupyterDash(__name__)\n",
    "\n",
    "# app.layout = html.Div([\n",
    "    \n",
    "#     # Logo de l'entreprise avec la méthode html.Img()\n",
    "#     html.Img(src='https://image.shutterstock.com/image-vector/online-shope-logo-designs-template-260nw-1718641837.jpg',\n",
    "#              style={'width':'80px', 'height':'80px', 'margin':'auto'}),\n",
    "    \n",
    "#     # Titre du dashboard\n",
    "#     html.H1(\"Graphique des ventes\"),\n",
    "    \n",
    "#     # Diagramme à barres\n",
    "#     html.Div(dcc.Graph(figure=bar_fig),\n",
    "#              style={'width':'700px', 'display':'inline-block', 'margin':'5px'}),\n",
    "    \n",
    "#     # Nuage de points\n",
    "#     html.Div(dcc.Graph(figure=scatter_fig),\n",
    "#              style={'width':'450px', 'display':'inline-block', 'margin':'5px'}),\n",
    "    \n",
    "#     # Ajout de 2 lignes vides pour la séparation avec html.Br()\n",
    "#     html.Br(),\n",
    "#     html.Br(),\n",
    "    \n",
    "#     # Ajout d'un composant global contenant du texte avec html.Span()\n",
    "#     html.Span(children=[\n",
    "      \n",
    "#       # Ajout du texte\n",
    "#       \"Le pays ayant réalisé le plus de ventes est : \",\n",
    "#       # Mise en gras de la réponse avec html.B()\n",
    "#       html.B(top_country),\n",
    "      \n",
    "#       # Ajout de 2 lignes vides pour la séparation\n",
    "#       html.Br(),\n",
    "#       html.Br(),\n",
    "      \n",
    "#       # Ajout d'un texte ordonné\n",
    "#       html.Ol(children=[\n",
    "#           # 2 éléments de texte\n",
    "#           html.Li(children=[\"Premier texte ordonné\"]),\n",
    "#           html.Li(children=[\"Deuxième texte ordonné\"])\n",
    "#           ],\n",
    "#               style={'width':'350 px', 'margin':'auto'}),\n",
    "      \n",
    "#       # Ajout d'une ligne de séparation\n",
    "#       html.Br(),\n",
    "      \n",
    "#       # Mettre du texte en italique\n",
    "#       html.I('Copyright E-Com')])\n",
    "#     ], style={'text-align':'center', 'font-size':22, \n",
    "#               'background-color':'black', 'color':'white'})\n",
    "\n",
    "# if __name__ == '__main__':\n",
    "#     app.run_server(debug=True)"
   ]
  },
  {
   "cell_type": "markdown",
   "metadata": {},
   "source": [
    "### Les callbacks\n",
    "\n",
    "Démarrage : 00:34:00\n",
    "\n",
    "Les callbacks permettent de \"lier\" deux widgets, qui comprennet toujours deux composants :\n",
    "-> Input (Entrée) : widget qui va intervenir pour modifier l'autre widget\n",
    "-> Output (Sortie) : widget qui sera modifié"
   ]
  },
  {
   "cell_type": "code",
   "execution_count": 37,
   "metadata": {},
   "outputs": [],
   "source": [
    "# # Instancier un objet application Dash dans Jupyter\n",
    "# app = JupyterDash(__name__)\n",
    "\n",
    "# # Configuration de la page @\n",
    "# app.layout = html.Div(children=[\n",
    "#     # Liste déroulante\n",
    "#     dcc.Dropdown(id='id_titre',\n",
    "#                  options=[{'label':'Titre 1', 'value': 'Ceci est le titre 1'},\n",
    "#                           {'label':'Titre 2', 'value': 'Ceci est le titre 2'},\n",
    "#                           {'label':'Titre 3', 'value': 'Ceci est le titre 3'}]),\n",
    "#     # Graphique\n",
    "#     dcc.Graph(id='mon_graphique'),\n",
    "# ])\n",
    "\n",
    "# # Callback : cette fonction a toujours une entrée (input) et une sortie (output)\n",
    "# # Ici l'objet du callback est de modifier le titre du graphique (output) à partir\n",
    "# # du titre choisi dans le menu déroulant (input)\n",
    "# @app.callback(\n",
    "#     # Output : sortie -> quel composant sera modifié par la fonction callback\n",
    "#     Output(\n",
    "#         component_id='mon_graphique', # Identifiant du composant qui sera modifié\n",
    "#         component_property='figure' # Ce qui sera mis à jour\n",
    "#         ),\n",
    "#     # Input : entrée -> quel composant intervient pour modifier l'autre composant\n",
    "#     Input(\n",
    "#         component_id='id_titre', # Identifiant du composant déclenchant le callback\n",
    "#         component_property='value' # Ce qui sera utilisé\n",
    "#         )\n",
    "# )\n",
    "\n",
    "# # Définition de la fonction de mise à jour du graphique (output)\n",
    "# def update_plot(selection):\n",
    "#     titre = \"Titre par défaut\"\n",
    "#     if selection:\n",
    "#         titre = selection\n",
    "#     bar_figure = px.bar(data_frame=ecom_sales,\n",
    "#                         x='Total Sales ($)',\n",
    "#                         y='Country',\n",
    "#                         color='Country',\n",
    "#                         title=titre)\n",
    "#     return bar_figure\n",
    "\n",
    "# if __name__ == '__main__':\n",
    "#     app.run_server(debug=True)"
   ]
  },
  {
   "cell_type": "markdown",
   "metadata": {},
   "source": [
    "### Réutilisation des composants de Dash (programmation procédurale)\n",
    "\n",
    "Recours aux fonctions pour éviter de répéter des composants identiques sur une page @\n",
    "\n",
    "Démarrage : 00:40:40"
   ]
  },
  {
   "cell_type": "code",
   "execution_count": 38,
   "metadata": {},
   "outputs": [],
   "source": [
    "# # Instancier un objet application Dash dans Jupyter\n",
    "# app = JupyterDash(__name__)\n",
    "\n",
    "# # Création d'une fonction d'ajout de logo sur plusieurs endroits de la page @\n",
    "# def add_logo():\n",
    "  \n",
    "#   # Logo de l'entreprise avec la méthode html.Img()\n",
    "#   logo = html.Img(src='https://image.shutterstock.com/image-vector/online-shope-logo-designs-template-260nw-1718641837.jpg',\n",
    "#                   style={'width':'80px', 'height':'80px', 'margin':'auto'})\n",
    "#   return logo\n",
    "\n",
    "# # Configuration de la page @\n",
    "# app.layout = html.Div([\n",
    "    \n",
    "#     # Logo de l'entreprise\n",
    "#     add_logo(),\n",
    "    \n",
    "#     # Titre du dashboard\n",
    "#     html.H1(\"Graphique des ventes\"),\n",
    "    \n",
    "#     # Diagramme à barres\n",
    "#     html.Div(dcc.Graph(figure=bar_fig),\n",
    "#              style={'width':'700px', 'display':'inline-block', 'margin':'5px'}),\n",
    "    \n",
    "#     # Logo de l'entreprise\n",
    "#     html.Br(),\n",
    "#     add_logo(),\n",
    "#     html.Br(),\n",
    "    \n",
    "#     # Nuage de points\n",
    "#     html.Div(dcc.Graph(figure=scatter_fig),\n",
    "#              style={'width':'450px', 'display':'inline-block', 'margin':'5px'}),\n",
    "    \n",
    "#     # Ajout de 2 lignes vides pour la séparation avec html.Br()\n",
    "#     html.Br(),\n",
    "#     html.Br(),\n",
    "    \n",
    "#     # Ajout d'un composant global contenant du texte avec html.Span()\n",
    "#     html.Span(children=[\n",
    "      \n",
    "#       # Ajout du texte\n",
    "#       \"Le pays ayant réalisé le plus de ventes est : \",\n",
    "      \n",
    "#       # Mise en gras de la réponse avec html.B()\n",
    "#       html.B(top_country),\n",
    "      \n",
    "#       # Ajout de 2 lignes vides pour la séparation\n",
    "#       html.Br(),\n",
    "#       html.Br(),\n",
    "      \n",
    "#       # Ajout d'un texte ordonné\n",
    "#       html.Ol(children=[\n",
    "#           # 2 éléments de texte\n",
    "#           html.Li(children=[\"Premier texte ordonné\"]),\n",
    "#           html.Li(children=[\"Deuxième texte ordonné\"])\n",
    "#           ],\n",
    "#               style={'width':'350 px', 'margin':'auto'}),\n",
    "      \n",
    "#       # Logo de l'entreprise\n",
    "#       html.Br(),\n",
    "#       add_logo(),\n",
    "#       html.Br(),\n",
    "      \n",
    "#       # Mettre du texte en italique\n",
    "#       html.I('Copyright E-Com')])\n",
    "#     ], style={'text-align':'center', 'font-size':22, \n",
    "#               'background-color':'black', 'color':'white'})\n",
    "\n",
    "# if __name__ == '__main__':\n",
    "#     app.run_server(debug=True)"
   ]
  },
  {
   "cell_type": "markdown",
   "metadata": {},
   "source": [
    "### Entrées utilisateur dans les composants Dash\n",
    "\n",
    "Démarrage : 00:48:20"
   ]
  },
  {
   "cell_type": "code",
   "execution_count": 39,
   "metadata": {},
   "outputs": [],
   "source": [
    "# # Fonction qui définit le nombre de lignes vides à insérer\n",
    "# def make_break(num_breaks):\n",
    "#     # Recours à la méthode html.Br() pour le retour d'une ligne\n",
    "#     br_list = [html.Br()] * num_breaks\n",
    "#     return br_list\n",
    "\n",
    "# # Fonction d'ajout de logo\n",
    "# def add_logo():\n",
    "#     # Logo de l'entreprise avec la méthode html.Img()\n",
    "#     logo = html.Img(src='https://image.shutterstock.com/image-vector/online-shope-logo-designs-template-260nw-1718641837.jpg',\n",
    "#                     style={'margin':'20px 20 px 5px 5px',\n",
    "#                            'border':'1px dashed lightblue',\n",
    "#                            'display':'inline-block'})\n",
    "#     return logo\n",
    "\n",
    "# # Refactoring de code CSS\n",
    "# def style_c():\n",
    "#     layout_style = {\n",
    "#         'display':'inline-block',\n",
    "#         'margin':'0 auto',\n",
    "#         'padding':'20px',}\n",
    "#     return layout_style\n",
    "\n",
    "# # Instancier un objet application Dash dans Jupyter\n",
    "# app = JupyterDash(__name__)\n",
    "\n",
    "# # Configuration de la page @\n",
    "# app.layout = html.Div([\n",
    "    \n",
    "#     # Ajout du logo\n",
    "#     add_logo(),\n",
    "    \n",
    "#     # Nombre de saut de lignes : 2\n",
    "#     *make_break(2),\n",
    "    \n",
    "#     # Titre principal\n",
    "#     html.H1(\"Tableau de bord des ventes\"),\n",
    "    \n",
    "#     # Nombre de saut de lignes : 3\n",
    "#     *make_break(3),\n",
    "    \n",
    "#     # Bloc de multiples composants\n",
    "#     html.Div(\n",
    "        \n",
    "#         children=[\n",
    "            \n",
    "#             # 1er bloc\n",
    "#             html.Div(  \n",
    "                     \n",
    "#                 # Contenu de ce 1er bloc    \n",
    "#                 children=[\n",
    "                    \n",
    "#                     # Titre de niveau 2\n",
    "#                     html.H2(\"Controls\", style=style_c()),\n",
    "                    \n",
    "#                     # Titre de niveau 3\n",
    "#                     html.H3(\"Rechercher des descriptions\"),\n",
    "                    \n",
    "#                     # Nombre de saut de lignes : 2\n",
    "#                     *make_break(2),\n",
    "                    \n",
    "#                     # Zone de saisie (entrée pour le callback)\n",
    "#                     dcc.Input(\n",
    "#                         id='search_desc',\n",
    "#                         type='text',\n",
    "#                         # Texte par défaut dans la zone de saisie\n",
    "#                         placeholder=\"Filtrer les descriptions de produits\",\n",
    "#                         # True : ce n'est qu'après avoir appuyé sur ENTREE que\n",
    "#                         # les changements s'opéreront et non au fur et à mesure\n",
    "#                         debounce=True,\n",
    "#                         # S'assurer que le graphique s'exécute même quand \n",
    "#                         # l'utilisateur ne saisit pas de texte\n",
    "#                         required=False,\n",
    "#                         style={'width':'200px', 'height':'30px'})],\n",
    "                \n",
    "#                 # Style pour ce 1er bloc\n",
    "#                 style={'width':'350px',\n",
    "#                        'height':'350px',\n",
    "#                        'vertical-align':'top',\n",
    "#                        'border':'1px solid black',\n",
    "#                        'display':'inline-block',\n",
    "#                        'margin':'0px 80 px'}),\n",
    "            \n",
    "#             # 2ème bloc\n",
    "#             html.Div(\n",
    "                \n",
    "#                 # Contenu de ce 2ème bloc\n",
    "#                 children=[\n",
    "                    \n",
    "#                     # Graphique (sortie pour le callbalck)\n",
    "#                     dcc.Graph(id='sales_desc')])])],\n",
    "        \n",
    "#         # Style pour la page @\n",
    "#         style={'text-align':'center', \n",
    "#                'display':'inline-block',\n",
    "#                'width':'100%'})\n",
    "\n",
    "# # Callback\n",
    "# @app.callback(\n",
    "#     # Sortie : graphique\n",
    "#     Output(\n",
    "#         # Récupération de l'ID\n",
    "#         component_id='sales_desc',\n",
    "#         # Récupération de la valeur\n",
    "#         component_property='figure'), \n",
    "#     # Entrée : zone de saisie\n",
    "#     Input(\n",
    "#         # Récupération de l'ID\n",
    "#         component_id='search_desc',\n",
    "#         # Récupération de la valeur\n",
    "#         component_property='value'))\n",
    "\n",
    "# # Mise à jour du graphique selon le texte mentionné dans la zone de saisie\n",
    "# # grâce au callback ci-avant\n",
    "# def update_plot(search_value):\n",
    "    \n",
    "#     # Assignation d'un titre par défaut\n",
    "#     title_value = \"Toutes les descriptions\"\n",
    "    \n",
    "#     # Copie de la DF\n",
    "#     sales = df.copy(deep=True)\n",
    "    \n",
    "#     # Effectuer le filtrage ici à l'aide de la saisie de l'utilisateur\n",
    "#     if search_value:\n",
    "        \n",
    "#         # Récupérer dans le champ 'Description' le mot saisi\n",
    "#         sales = sales[sales['Description'].str.contains(search_value, case=False)]\n",
    "        \n",
    "#         # Titre par défaut remplacé par le mot recherché par l'utilsiateur\n",
    "#         title_value = search_value\n",
    "    \n",
    "#     # Modification du graphique\n",
    "#     fig = px.scatter(data_frame=sales,\n",
    "#                      y='OrderValue',\n",
    "#                      x='Quantity',\n",
    "#                      size='OrderValue',\n",
    "#                      color='Country',\n",
    "#                      title=f\"Produits contenant : {title_value}\")\n",
    "    \n",
    "#     return fig\n",
    "\n",
    "# if __name__ == '__main__':\n",
    "#     app.run_server(debug=True)\n"
   ]
  },
  {
   "cell_type": "markdown",
   "metadata": {},
   "source": [
    "### Tableaux Dash interactifs\n",
    "\n",
    "Démarrage : 00:56:45"
   ]
  },
  {
   "cell_type": "code",
   "execution_count": 40,
   "metadata": {},
   "outputs": [
    {
     "data": {
      "text/plain": [
       "[{'name': 'InvoiceNo', 'id': 'InvoiceNo'},\n",
       " {'name': 'Description', 'id': 'Description'},\n",
       " {'name': 'OrderValue', 'id': 'OrderValue'},\n",
       " {'name': 'Quantity', 'id': 'Quantity'},\n",
       " {'name': 'CustomerID', 'id': 'CustomerID'},\n",
       " {'name': 'Country', 'id': 'Country'}]"
      ]
     },
     "execution_count": 40,
     "metadata": {},
     "output_type": "execute_result"
    }
   ],
   "source": [
    "# Assignation d'une compréhension de liste\n",
    "d_columns = [{'name': x, 'id' : x} for x in df.columns]\n",
    "d_columns"
   ]
  },
  {
   "cell_type": "code",
   "execution_count": 41,
   "metadata": {},
   "outputs": [],
   "source": [
    "# Création d'une datatable\n",
    "d_table = DataTable(\n",
    "    # Les colonnes doivent être sous forme d'une liste de dictionnaire\n",
    "    # pour la sous-librairie DataTable\n",
    "    columns=d_columns,\n",
    "    data=df.to_dict('records'),\n",
    "    cell_selectable=True, # True : mettre en surbrillance la cellule sélectionnée\n",
    "    sort_action='native', # Fonctionnalité de trie\n",
    "    filter_action='native', # Fonctionnalité de filtrage\n",
    "    page_action='native', # Ajout de pagination\n",
    "    page_current=0, # Commencez à la 1ère page\n",
    "    page_size=10 # nombre lignes par page de la table\n",
    ")"
   ]
  },
  {
   "cell_type": "code",
   "execution_count": 42,
   "metadata": {},
   "outputs": [],
   "source": [
    "# # Instancier un objet application Dash dans Jupyter\n",
    "# app = JupyterDash(__name__)\n",
    "\n",
    "# app.layout = html.Div([\n",
    "    \n",
    "#     # Ajout d'un logo\n",
    "#     html.Img(src='https://image.shutterstock.com/image-vector/online-shope-logo-designs-template-260nw-1718641837.jpg',\n",
    "#              style={'margin':'30px 0px 0px 0px'}),\n",
    "    \n",
    "#     # Titre principal\n",
    "#     html.H1(\"Table de données des ventes\"),\n",
    "    \n",
    "#     # Bloc pour ajouter la datatable\n",
    "#     html.Div(\n",
    "#         children=[d_table],\n",
    "#         style={'width':'850px', 'height':'750px', 'margin':'0 auto'})\n",
    "    \n",
    "#     ], \n",
    "        \n",
    "#         # Style pour la page principale\n",
    "#         style={'text-align':'center', 'display':'inline-block', 'width':'100 %'})\n",
    "\n",
    "# if __name__ == '__main__':\n",
    "#     app.run_server(debug=True)"
   ]
  }
 ],
 "metadata": {
  "kernelspec": {
   "display_name": ".venv",
   "language": "python",
   "name": "python3"
  },
  "language_info": {
   "codemirror_mode": {
    "name": "ipython",
    "version": 3
   },
   "file_extension": ".py",
   "mimetype": "text/x-python",
   "name": "python",
   "nbconvert_exporter": "python",
   "pygments_lexer": "ipython3",
   "version": "3.9.2"
  },
  "orig_nbformat": 4
 },
 "nbformat": 4,
 "nbformat_minor": 2
}
