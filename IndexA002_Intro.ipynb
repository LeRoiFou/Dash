{
 "cells": [
  {
   "cell_type": "markdown",
   "metadata": {},
   "source": [
    "[Dash en 20 minutes](https://dash.plotly.com/tutorial)\n",
    "\n",
    "L'instanciation de la librairie : app = JupyterDash(__name__) se ferait sans\n",
    "Jupyter de la manière suivante : app = Dash(__name__) puis saisir dans le \n",
    "terminal : python app.py. (app : nom du fichier python à exécuter)\n",
    "\n",
    "Date : 14-08-23"
   ]
  },
  {
   "cell_type": "code",
   "execution_count": 1,
   "metadata": {},
   "outputs": [],
   "source": [
    "from jupyter_dash import JupyterDash"
   ]
  },
  {
   "cell_type": "code",
   "execution_count": 2,
   "metadata": {},
   "outputs": [
    {
     "name": "stderr",
     "output_type": "stream",
     "text": [
      "c:\\Users\\LRCOM\\pythonProjects\\dash\\.venv\\lib\\site-packages\\dash\\dash.py:516: UserWarning: JupyterDash is deprecated, use Dash instead.\n",
      "See https://dash.plotly.com/dash-in-jupyter for more details.\n",
      "  warnings.warn(\n"
     ]
    },
    {
     "data": {
      "text/html": [
       "\n",
       "        <iframe\n",
       "            width=\"100%\"\n",
       "            height=\"650\"\n",
       "            src=\"http://127.0.0.1:8050/\"\n",
       "            frameborder=\"0\"\n",
       "            allowfullscreen\n",
       "            \n",
       "        ></iframe>\n",
       "        "
      ],
      "text/plain": [
       "<IPython.lib.display.IFrame at 0x205c279ed60>"
      ]
     },
     "metadata": {},
     "output_type": "display_data"
    }
   ],
   "source": [
    "\"Application @ avec 'Hello World!'\"\n",
    "\n",
    "from dash import html\n",
    "\n",
    "# Instanciation de la librairie\n",
    "app = JupyterDash(__name__)\n",
    "\n",
    "# Configuration de la page web\n",
    "app.layout = html.Div([\n",
    "    html.Div(children='Hello World')])\n",
    "\n",
    "# Lancement de l'application\n",
    "if __name__ == '__main__':\n",
    "    app.run(debug=True) # True : affichage des commentaires d'erreurs"
   ]
  },
  {
   "cell_type": "code",
   "execution_count": 5,
   "metadata": {},
   "outputs": [
    {
     "name": "stderr",
     "output_type": "stream",
     "text": [
      "c:\\Users\\LRCOM\\pythonProjects\\dash\\.venv\\lib\\site-packages\\dash\\dash.py:516: UserWarning:\n",
      "\n",
      "JupyterDash is deprecated, use Dash instead.\n",
      "See https://dash.plotly.com/dash-in-jupyter for more details.\n",
      "\n"
     ]
    },
    {
     "data": {
      "text/html": [
       "\n",
       "        <iframe\n",
       "            width=\"100%\"\n",
       "            height=\"650\"\n",
       "            src=\"http://127.0.0.1:8050/\"\n",
       "            frameborder=\"0\"\n",
       "            allowfullscreen\n",
       "            \n",
       "        ></iframe>\n",
       "        "
      ],
      "text/plain": [
       "<IPython.lib.display.IFrame at 0x205cb766a90>"
      ]
     },
     "metadata": {},
     "output_type": "display_data"
    }
   ],
   "source": [
    "\"Page @ avec une DF\"\n",
    "\n",
    "from dash import html, dash_table\n",
    "import pandas as pd\n",
    "\n",
    "# Récupération du fichier converti en pandas\n",
    "df = pd.read_csv('https://raw.githubusercontent.com/plotly/datasets/master/gapminder2007.csv')\n",
    "\n",
    "# Instanciation de la librairie\n",
    "app = JupyterDash(__name__)\n",
    "\n",
    "# Configuration de la page @\n",
    "app.layout = html.Div([\n",
    "    \n",
    "    # Titre de la page\n",
    "    html.Div(children='My First App with Data'),\n",
    "    \n",
    "    # DF\n",
    "    dash_table.DataTable(\n",
    "        data=df.to_dict('records'), # Conversion des données en dictionnaire\n",
    "        page_size=10) # Nombre de lignes à afficher par page\n",
    "])\n",
    "\n",
    "# Lancement de l'application\n",
    "if __name__ == '__main__':\n",
    "    app.run(debug=True)\n"
   ]
  },
  {
   "cell_type": "code",
   "execution_count": 6,
   "metadata": {},
   "outputs": [
    {
     "name": "stderr",
     "output_type": "stream",
     "text": [
      "c:\\Users\\LRCOM\\pythonProjects\\dash\\.venv\\lib\\site-packages\\dash\\dash.py:516: UserWarning:\n",
      "\n",
      "JupyterDash is deprecated, use Dash instead.\n",
      "See https://dash.plotly.com/dash-in-jupyter for more details.\n",
      "\n"
     ]
    },
    {
     "data": {
      "text/html": [
       "\n",
       "        <iframe\n",
       "            width=\"100%\"\n",
       "            height=\"650\"\n",
       "            src=\"http://127.0.0.1:8050/\"\n",
       "            frameborder=\"0\"\n",
       "            allowfullscreen\n",
       "            \n",
       "        ></iframe>\n",
       "        "
      ],
      "text/plain": [
       "<IPython.lib.display.IFrame at 0x205cb7c0df0>"
      ]
     },
     "metadata": {},
     "output_type": "display_data"
    }
   ],
   "source": [
    "\"Page @ avec une DF et un graphique\"\n",
    "\n",
    "# Import packages\n",
    "from dash import html, dash_table, dcc # dcc pour les graphiques entre autres\n",
    "import pandas as pd\n",
    "import plotly.express as px\n",
    "\n",
    "# Récupération du fichier converti en pandas\n",
    "df = pd.read_csv('https://raw.githubusercontent.com/plotly/datasets/master/gapminder2007.csv')\n",
    "\n",
    "# Instanciation de la librairie\n",
    "app = JupyterDash(__name__)\n",
    "\n",
    "# Configuration de la page @\n",
    "app.layout = html.Div([\n",
    "    \n",
    "    # Titre de la page\n",
    "    html.Div(children='My First App with Data and a Graph'),\n",
    "    \n",
    "    # DF\n",
    "    dash_table.DataTable(\n",
    "        data=df.to_dict('records'), \n",
    "        page_size=10),\n",
    "    \n",
    "    # Graphique\n",
    "    dcc.Graph(figure=px.histogram(df, x='continent', y='lifeExp', histfunc='avg'))\n",
    "])\n",
    "\n",
    "# Lancement de l'application\n",
    "if __name__ == '__main__':\n",
    "    app.run(debug=True)\n"
   ]
  },
  {
   "cell_type": "code",
   "execution_count": 7,
   "metadata": {},
   "outputs": [
    {
     "name": "stderr",
     "output_type": "stream",
     "text": [
      "c:\\Users\\LRCOM\\pythonProjects\\dash\\.venv\\lib\\site-packages\\dash\\dash.py:516: UserWarning:\n",
      "\n",
      "JupyterDash is deprecated, use Dash instead.\n",
      "See https://dash.plotly.com/dash-in-jupyter for more details.\n",
      "\n"
     ]
    },
    {
     "data": {
      "text/html": [
       "\n",
       "        <iframe\n",
       "            width=\"100%\"\n",
       "            height=\"650\"\n",
       "            src=\"http://127.0.0.1:8050/\"\n",
       "            frameborder=\"0\"\n",
       "            allowfullscreen\n",
       "            \n",
       "        ></iframe>\n",
       "        "
      ],
      "text/plain": [
       "<IPython.lib.display.IFrame at 0x205cb766850>"
      ]
     },
     "metadata": {},
     "output_type": "display_data"
    }
   ],
   "source": [
    "\"Interaction entre 2 widgets avec un callback\"\n",
    "\n",
    "from dash import (html, \n",
    "                  dash_table, # pour la DF\n",
    "                  dcc, # pour le graphique entre autres\n",
    "                  callback, # pour le callback\n",
    "                  Output, # pour la sortie\n",
    "                  Input) # pour l'entrée\n",
    "import pandas as pd\n",
    "import plotly.express as px\n",
    "\n",
    "# Récupération du fichier converti en pandas\n",
    "df = pd.read_csv('https://raw.githubusercontent.com/plotly/datasets/master/gapminder2007.csv')\n",
    "\n",
    "# Instanciation de la librairie\n",
    "app = JupyterDash(__name__)\n",
    "\n",
    "# Configuration de la page @\n",
    "app.layout = html.Div([\n",
    "    \n",
    "    # Titre de la page\n",
    "    html.Div(children='My First App with Data, Graph, and Controls'),\n",
    "    \n",
    "    html.Hr(),\n",
    "    \n",
    "    # Bouton d'option\n",
    "    dcc.RadioItems(options=['pop', 'lifeExp', 'gdpPercap'], \n",
    "                   value='lifeExp', # option par défaut\n",
    "                   id='controls-and-radio-item'), # ID : pour le callback\n",
    "    \n",
    "    # DF\n",
    "    dash_table.DataTable(data=df.to_dict('records'), # conversion en dict\n",
    "                         page_size=6), # nombre de lignes par page\n",
    "    \n",
    "    # Graphique\n",
    "    dcc.Graph(figure={}, # Données à compléter\n",
    "              id='controls-and-graph') # ID : pour le callback\n",
    "])\n",
    "\n",
    "# Interaction entre le widget bouton d'option et le graphique\n",
    "@callback(\n",
    "    Output( # Sortie : graphique\n",
    "        component_id='controls-and-graph', # Récupération de l'ID\n",
    "        component_property='figure'), # Récupération de la propriété du widget\n",
    "    Input( # entrée : bouton d'option\n",
    "        component_id='controls-and-radio-item', # Récupération de l'ID\n",
    "        component_property='value') # Récupération de la propriété du widget\n",
    ")\n",
    "def update_graph(col_chosen):\n",
    "    fig = px.histogram(df, \n",
    "                       x='continent', \n",
    "                       y=col_chosen, # selon le champ choisi dans RadioItems\n",
    "                       histfunc='avg')\n",
    "    return fig\n",
    "\n",
    "# Run the app\n",
    "if __name__ == '__main__':\n",
    "    app.run(debug=True)\n"
   ]
  },
  {
   "cell_type": "code",
   "execution_count": 8,
   "metadata": {},
   "outputs": [
    {
     "name": "stderr",
     "output_type": "stream",
     "text": [
      "c:\\Users\\LRCOM\\pythonProjects\\dash\\.venv\\lib\\site-packages\\dash\\dash.py:516: UserWarning:\n",
      "\n",
      "JupyterDash is deprecated, use Dash instead.\n",
      "See https://dash.plotly.com/dash-in-jupyter for more details.\n",
      "\n"
     ]
    },
    {
     "data": {
      "text/html": [
       "\n",
       "        <iframe\n",
       "            width=\"100%\"\n",
       "            height=\"650\"\n",
       "            src=\"http://127.0.0.1:8050/\"\n",
       "            frameborder=\"0\"\n",
       "            allowfullscreen\n",
       "            \n",
       "        ></iframe>\n",
       "        "
      ],
      "text/plain": [
       "<IPython.lib.display.IFrame at 0x205cb878a00>"
      ]
     },
     "metadata": {},
     "output_type": "display_data"
    }
   ],
   "source": [
    "\"HTML et CSS pour donner un style de la page @\"\n",
    "\n",
    "from dash import (html, \n",
    "                  dash_table, # pour la DF\n",
    "                  dcc, # pour le graphique entre autres\n",
    "                  callback, # pour le callback\n",
    "                  Output, # pour la sortie\n",
    "                  Input) # pour l'entrée\n",
    "import pandas as pd\n",
    "import plotly.express as px\n",
    "\n",
    "# Récupération du fichier converti en pandas\n",
    "df = pd.read_csv('https://raw.githubusercontent.com/plotly/datasets/master/gapminder2007.csv')\n",
    "\n",
    "# Instanciation de la librairie\n",
    "app = JupyterDash(__name__)\n",
    "\n",
    "# Configuration de la page @\n",
    "app.layout = html.Div([\n",
    "    \n",
    "    html.Div(className='row', \n",
    "             children='My First App with Data, Graph, and Controls',\n",
    "             style={'textAlign': 'center', 'color': 'blue', 'fontSize': 30}),\n",
    "\n",
    "    html.Div(className='row', \n",
    "             children=[\n",
    "                 dcc.RadioItems(options=['pop', 'lifeExp', 'gdpPercap'],\n",
    "                                value='lifeExp', # option par défaut\n",
    "                                inline=True, # True : alignement des options\n",
    "                                id='my-radio-buttons-final') # ID : pour le callback\n",
    "    ]),\n",
    "\n",
    "    html.Div(className='row', \n",
    "             children=[\n",
    "                 html.Div(className='six columns', \n",
    "                          children=[\n",
    "                              dash_table.DataTable(data=df.to_dict('records'), \n",
    "                                                   page_size=11, \n",
    "                                                   style_table={'overflowX': 'auto'})\n",
    "        ]),\n",
    "                 html.Div(className='six columns', children=[\n",
    "                     dcc.Graph(figure={}, # Données à compléter\n",
    "                               id='histo-chart-final') # ID : pour le callback\n",
    "        ])\n",
    "    ])\n",
    "])\n",
    "\n",
    "# Interaction entre le widget bouton d'option et le graphique\n",
    "@callback(\n",
    "    Output( # Sortie : graphique\n",
    "        component_id='histo-chart-final', # Récupération de l'ID\n",
    "        component_property='figure'), # Récupération de la propriété du widget\n",
    "    Input( # entrée : bouton d'option\n",
    "        component_id='my-radio-buttons-final', # Récupération de l'ID\n",
    "        component_property='value') # Récupération de la propriété du widget\n",
    ")\n",
    "def update_graph(col_chosen):\n",
    "    fig = px.histogram(df, \n",
    "                       x='continent', \n",
    "                       y=col_chosen, # selon le champ choisi dans RadioItems\n",
    "                       histfunc='avg')\n",
    "    return fig\n",
    "\n",
    "# Run the app\n",
    "if __name__ == '__main__':\n",
    "    app.run(debug=True)\n"
   ]
  },
  {
   "cell_type": "code",
   "execution_count": 9,
   "metadata": {},
   "outputs": [
    {
     "data": {
      "text/plain": [
       "'Dash Mantine Components (DMC)'"
      ]
     },
     "execution_count": 9,
     "metadata": {},
     "output_type": "execute_result"
    }
   ],
   "source": [
    "\"Dash Mantine Components (DMC)\"\n",
    "\n",
    "# Dash Mantine est un autre moyen puissant de personnaliser la mise en page \n",
    "# des applications. \n",
    "# Les composants Dash Mantine utilisent le module Grid \n",
    "# pour structurer la mise en page sans recourir au HTML / CSS"
   ]
  },
  {
   "cell_type": "code",
   "execution_count": 11,
   "metadata": {},
   "outputs": [],
   "source": [
    "# %pip install dash-mantine-components"
   ]
  },
  {
   "cell_type": "code",
   "execution_count": 12,
   "metadata": {},
   "outputs": [
    {
     "name": "stderr",
     "output_type": "stream",
     "text": [
      "c:\\Users\\LRCOM\\pythonProjects\\dash\\.venv\\lib\\site-packages\\dash\\dash.py:516: UserWarning:\n",
      "\n",
      "JupyterDash is deprecated, use Dash instead.\n",
      "See https://dash.plotly.com/dash-in-jupyter for more details.\n",
      "\n"
     ]
    },
    {
     "data": {
      "text/html": [
       "\n",
       "        <iframe\n",
       "            width=\"100%\"\n",
       "            height=\"650\"\n",
       "            src=\"http://127.0.0.1:8050/\"\n",
       "            frameborder=\"0\"\n",
       "            allowfullscreen\n",
       "            \n",
       "        ></iframe>\n",
       "        "
      ],
      "text/plain": [
       "<IPython.lib.display.IFrame at 0x205cbca0910>"
      ]
     },
     "metadata": {},
     "output_type": "display_data"
    }
   ],
   "source": [
    "# Import packages\n",
    "from dash import dash_table, dcc, callback, Output, Input\n",
    "import pandas as pd\n",
    "import plotly.express as px\n",
    "import dash_mantine_components as dmc\n",
    "\n",
    "# Récupération du fichier converti en pandas\n",
    "df = pd.read_csv('https://raw.githubusercontent.com/plotly/datasets/master/gapminder2007.csv')\n",
    "\n",
    "# Ajout d'un thème Dash Mantine Components\n",
    "external_stylesheets = [dmc.theme.DEFAULT_COLORS]\n",
    "\n",
    "# Instanciation de la librairie\n",
    "app = JupyterDash(__name__, external_stylesheets=external_stylesheets)\n",
    "\n",
    "# Configuration de la page @\n",
    "app.layout = dmc.Container([\n",
    "    \n",
    "    # Titre de la page\n",
    "    dmc.Title('My First App with Data, Graph, and Controls', \n",
    "              color=\"blue\", size=\"h3\"),\n",
    "    \n",
    "     # Bouton d'option\n",
    "    dmc.RadioGroup(\n",
    "            [dmc.Radio(i, value=i) for i in  ['pop', 'lifeExp', 'gdpPercap']],\n",
    "            id='my-dmc-radio-item',\n",
    "            value='lifeExp',\n",
    "            size=\"sm\"),\n",
    "    \n",
    "    dmc.Grid([\n",
    "        dmc.Col([\n",
    "            # DF\n",
    "            dash_table.DataTable(\n",
    "                data=df.to_dict('records'), \n",
    "                page_size=12, style_table={'overflowX': 'auto'})\n",
    "        ], span=6),\n",
    "        \n",
    "        dmc.Col([\n",
    "            # Graphique\n",
    "            dcc.Graph(figure={}, id='graph-placeholder')\n",
    "        ], span=6),\n",
    "    ]),\n",
    "\n",
    "], fluid=True)\n",
    "\n",
    "# Interaction entre le widget bouton d'option et le graphiqu\n",
    "@callback(\n",
    "    Output(component_id='graph-placeholder', component_property='figure'),\n",
    "    Input(component_id='my-dmc-radio-item', component_property='value')\n",
    ")\n",
    "def update_graph(col_chosen):\n",
    "    fig = px.histogram(df, x='continent', y=col_chosen, histfunc='avg')\n",
    "    return fig\n",
    "\n",
    "# Run the App\n",
    "if __name__ == '__main__':\n",
    "    app.run(debug=True)"
   ]
  }
 ],
 "metadata": {
  "kernelspec": {
   "display_name": ".venv",
   "language": "python",
   "name": "python3"
  },
  "language_info": {
   "codemirror_mode": {
    "name": "ipython",
    "version": 3
   },
   "file_extension": ".py",
   "mimetype": "text/x-python",
   "name": "python",
   "nbconvert_exporter": "python",
   "pygments_lexer": "ipython3",
   "version": "3.9.2"
  },
  "orig_nbformat": 4
 },
 "nbformat": 4,
 "nbformat_minor": 2
}
